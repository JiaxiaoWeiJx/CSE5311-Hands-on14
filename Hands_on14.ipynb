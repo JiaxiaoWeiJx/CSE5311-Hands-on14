{
  "nbformat": 4,
  "nbformat_minor": 0,
  "metadata": {
    "colab": {
      "provenance": []
    },
    "kernelspec": {
      "name": "python3",
      "display_name": "Python 3"
    },
    "language_info": {
      "name": "python"
    }
  },
  "cells": [
    {
      "cell_type": "code",
      "execution_count": 1,
      "metadata": {
        "colab": {
          "base_uri": "https://localhost:8080/"
        },
        "id": "yhlzWYk2aHwr",
        "outputId": "4dc9d2bf-4590-4c07-dbd6-3e21e8af6453"
      },
      "outputs": [
        {
          "output_type": "stream",
          "name": "stdout",
          "text": [
            "Topological Sort: [2, 3, 1, 0]\n"
          ]
        }
      ],
      "source": [
        "from collections import defaultdict\n",
        "\n",
        "class Graph:\n",
        "    def __init__(self):\n",
        "        self.graph = defaultdict(list)\n",
        "\n",
        "    def add_edge(self, u, v):\n",
        "        self.graph[u].append(v)\n",
        "\n",
        "    def topological_sort_util(self, v, visited, stack):\n",
        "        visited[v] = True\n",
        "\n",
        "        for i in self.graph[v]:\n",
        "            if not visited[i]:\n",
        "                self.topological_sort_util(i, visited, stack)\n",
        "\n",
        "        stack.append(v)\n",
        "\n",
        "    def topological_sort(self):\n",
        "        visited = [False] * len(self.graph)\n",
        "        stack = []\n",
        "\n",
        "        for i in range(len(self.graph)):\n",
        "            if not visited[i]:\n",
        "                self.topological_sort_util(i, visited, stack)\n",
        "\n",
        "        return stack[::-1]\n",
        "\n",
        "# Example usage:\n",
        "g = Graph()\n",
        "g.add_edge(5, 2)\n",
        "g.add_edge(5, 0)\n",
        "g.add_edge(4, 0)\n",
        "g.add_edge(4, 1)\n",
        "g.add_edge(2, 3)\n",
        "g.add_edge(3, 1)\n",
        "\n",
        "print(\"Topological Sort:\", g.topological_sort())\n"
      ]
    },
    {
      "cell_type": "code",
      "source": [
        "class Graph:\n",
        "    def __init__(self):\n",
        "        self.graph = defaultdict(list)\n",
        "\n",
        "    def add_edge(self, u, v):\n",
        "        self.graph[u].append(v)\n",
        "\n",
        "    def dfs_util(self, v, visited):\n",
        "        visited[v] = True\n",
        "        print(v, end=' ')\n",
        "\n",
        "        for i in self.graph[v]:\n",
        "            if not visited[i]:\n",
        "                self.dfs_util(i, visited)\n",
        "\n",
        "    def dfs(self, v):\n",
        "        visited = [False] * len(self.graph)\n",
        "        self.dfs_util(v, visited)\n",
        "\n",
        "# Example usage:\n",
        "g = Graph()\n",
        "g.add_edge(0, 1)\n",
        "g.add_edge(0, 2)\n",
        "g.add_edge(1, 2)\n",
        "g.add_edge(2, 0)\n",
        "g.add_edge(2, 3)\n",
        "g.add_edge(3, 3)\n",
        "\n",
        "print(\"DFS Traversal:\")\n",
        "g.dfs(2)\n"
      ],
      "metadata": {
        "colab": {
          "base_uri": "https://localhost:8080/"
        },
        "id": "Y8X9u-wmaORw",
        "outputId": "49ddbc0b-2fc9-4ec7-fb97-7d7d78e3ec84"
      },
      "execution_count": 2,
      "outputs": [
        {
          "output_type": "stream",
          "name": "stdout",
          "text": [
            "DFS Traversal:\n",
            "2 0 1 3 "
          ]
        }
      ]
    },
    {
      "cell_type": "code",
      "source": [
        "class Graph:\n",
        "    def __init__(self, vertices):\n",
        "        self.V = vertices\n",
        "        self.graph = []\n",
        "\n",
        "    def add_edge(self, u, v, w):\n",
        "        self.graph.append([u, v, w])\n",
        "\n",
        "    def find(self, parent, i):\n",
        "        if parent[i] == i:\n",
        "            return i\n",
        "        return self.find(parent, parent[i])\n",
        "\n",
        "    def union(self, parent, rank, x, y):\n",
        "        x_root = self.find(parent, x)\n",
        "        y_root = self.find(parent, y)\n",
        "\n",
        "        if rank[x_root] < rank[y_root]:\n",
        "            parent[x_root] = y_root\n",
        "        elif rank[x_root] > rank[y_root]:\n",
        "            parent[y_root] = x_root\n",
        "        else:\n",
        "            parent[y_root] = x_root\n",
        "            rank[x_root] += 1\n",
        "\n",
        "    def kruskal_mst(self):\n",
        "        result = []\n",
        "        i, e = 0, 0\n",
        "        self.graph = sorted(self.graph, key=lambda item: item[2])\n",
        "        parent = []\n",
        "        rank = []\n",
        "\n",
        "        for node in range(self.V):\n",
        "            parent.append(node)\n",
        "            rank.append(0)\n",
        "\n",
        "        while e < self.V - 1:\n",
        "            u, v, w = self.graph[i]\n",
        "            i = i + 1\n",
        "            x = self.find(parent, u)\n",
        "            y = self.find(parent, v)\n",
        "\n",
        "            if x != y:\n",
        "                e = e + 1\n",
        "                result.append([u, v, w])\n",
        "                self.union(parent, rank, x, y)\n",
        "\n",
        "        return result\n",
        "\n",
        "# Example usage:\n",
        "g = Graph(4)\n",
        "g.add_edge(0, 1, 10)\n",
        "g.add_edge(0, 2, 6)\n",
        "g.add_edge(0, 3, 5)\n",
        "g.add_edge(1, 3, 15)\n",
        "g.add_edge(2, 3, 4)\n",
        "\n",
        "print(\"Edges included in MST (Kruskal's Algorithm):\")\n",
        "print(g.kruskal_mst())\n"
      ],
      "metadata": {
        "colab": {
          "base_uri": "https://localhost:8080/"
        },
        "id": "AxfOznevaq1_",
        "outputId": "e00da9c5-21e0-4f4f-b4e7-f31ba08e54a1"
      },
      "execution_count": 3,
      "outputs": [
        {
          "output_type": "stream",
          "name": "stdout",
          "text": [
            "Edges included in MST (Kruskal's Algorithm):\n",
            "[[2, 3, 4], [0, 3, 5], [0, 1, 10]]\n"
          ]
        }
      ]
    }
  ]
}